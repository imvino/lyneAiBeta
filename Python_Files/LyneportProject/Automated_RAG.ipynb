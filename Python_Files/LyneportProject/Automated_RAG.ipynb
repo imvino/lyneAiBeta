{
 "cells": [
  {
   "cell_type": "code",
   "execution_count": null,
   "id": "e2ddf054-a49f-4165-8c3e-d7aec29597ac",
   "metadata": {},
   "outputs": [],
   "source": [
    "import pdfplumber\n",
    "import re\n",
    "\n",
    "def extract_values(pdf_path, keywords):\n",
    "    results = {}\n",
    "    with pdfplumber.open(pdf_path) as pdf:\n",
    "        for page in pdf.pages:\n",
    "            text = page.extract_text()\n",
    "            if not text: continue\n",
    "            for kw in keywords:\n",
    "                if kw.lower() in text.lower():\n",
    "                    # Look for patterns like \"Minimum …: 15 m\"\n",
    "                    pattern = rf\"{kw}.*?(\\d+(?:\\.\\d+)?\\s?(?:m|ft))\"\n",
    "                    match = re.search(pattern, text, re.IGNORECASE)\n",
    "                    if match:\n",
    "                        results[kw] = match.group(1)\n",
    "    return results\n",
    "\n",
    "keywords = [\"Minimum TLOF\", \"Default TLOF\", \"Maximum TLOF\", \n",
    "            \"Minimum FATO\", \"Default FATO\", \"Maximum FATO\",\n",
    "            \"Downwash Caution Area\", \"Parking\", \"RD\", \"Safety Area\"]\n",
    "\n",
    "values = extract_values(\"EB_105A_vertiport_design.pdf\", keywords)\n",
    "print(values)\n"
   ]
  }
 ],
 "metadata": {
  "kernelspec": {
   "display_name": "Python 3 (ipykernel)",
   "language": "python",
   "name": "python3"
  },
  "language_info": {
   "codemirror_mode": {
    "name": "ipython",
    "version": 3
   },
   "file_extension": ".py",
   "mimetype": "text/x-python",
   "name": "python",
   "nbconvert_exporter": "python",
   "pygments_lexer": "ipython3",
   "version": "3.9.23"
  },
  "widgets": {
   "application/vnd.jupyter.widget-state+json": {
    "state": {},
    "version_major": 2,
    "version_minor": 0
   }
  }
 },
 "nbformat": 4,
 "nbformat_minor": 5
}
