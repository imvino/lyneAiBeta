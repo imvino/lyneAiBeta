{
 "cells": [
  {
   "cell_type": "code",
   "execution_count": null,
   "id": "c4b4817f-f325-43a5-8cb8-2892762c3b07",
   "metadata": {},
   "outputs": [],
   "source": [
    "import os\n",
    "import sys\n",
    "from dotenv import load_dotenv\n",
    "from typing import Optional\n",
    "from langchain_community.vectorstores import SupabaseVectorStore\n",
    "from supabase import create_client\n",
    "from langchain_community.document_loaders import DirectoryLoader, PyPDFLoader\n",
    "from langchain_text_splitters import RecursiveCharacterTextSplitter\n",
    "from langchain_openai import AzureOpenAIEmbeddings\n",
    "\n",
    "load_dotenv()\n",
    "\n",
    "# Supabase client\n",
    "supabase_url = os.getenv(\"SUPABASE_URL\")\n",
    "supabase_key = os.getenv(\"SUPABASE_KEY\")\n",
    "supabase = create_client(supabase_url, supabase_key)\n",
    "\n",
    "# Embeddings\n",
    "embeddings = AzureOpenAIEmbeddings(\n",
    "    model=os.getenv(\"AZURE_EMBEDDING_MODEL_NAME\"),\n",
    "    azure_endpoint=os.getenv(\"AZURE_EMBEDDING_ENDPOINT\"),\n",
    "    #openai_api_key=os.getenv(\"AZURE_EMBEDDING_API_KEY\"),\n",
    "    openai_api_version=\"2024-02-01\",\n",
    ")\n"
   ]
  },
  {
   "cell_type": "markdown",
   "id": "17474ca6-402f-4521-9606-5203fa303a10",
   "metadata": {},
   "source": [
    "### Load the Docs"
   ]
  },
  {
   "cell_type": "code",
   "execution_count": 7,
   "id": "f639250e-33cb-4c69-8272-2d7d368ebde6",
   "metadata": {},
   "outputs": [
    {
     "name": "stdout",
     "output_type": "stream",
     "text": [
      "[LOAD] Loading PDFs from: ./_regulations/FAA_USA\n"
     ]
    },
    {
     "name": "stderr",
     "output_type": "stream",
     "text": [
      "100%|████████████████████████████████████████████████████████████████████████████████████| 3/3 [00:27<00:00,  9.17s/it]\n"
     ]
    },
    {
     "name": "stdout",
     "output_type": "stream",
     "text": [
      "[CHUNKS] Prepared 656 chunks for FAA regulations\n",
      "[SUCCESS] FAA embeddings uploaded to Supabase table: regulation_embd\n"
     ]
    }
   ],
   "source": [
    "\n",
    "# Path to FAA regulations folder\n",
    "FAA_FOLDER = \"./_regulations/FAA_USA\"\n",
    "\n",
    "def build_vectorstore_faa() -> Optional[SupabaseVectorStore]:\n",
    "    \"\"\"Load FAA PDFs, chunk them, and build a Supabase vectorstore in regulation_embd.\"\"\"\n",
    "    folder = FAA_FOLDER\n",
    "    if not os.path.isdir(folder):\n",
    "        print(f\"[INFO] No folder found at '{folder}'.\", file=sys.stderr)\n",
    "        return None\n",
    "\n",
    "    print(f\"[LOAD] Loading PDFs from: {folder}\")\n",
    "    loader = DirectoryLoader(\n",
    "        folder,\n",
    "        glob=\"**/*.pdf\",\n",
    "        loader_cls=PyPDFLoader,\n",
    "        show_progress=True\n",
    "    )\n",
    "    documents = loader.load()\n",
    "    if not documents:\n",
    "        print(f\"[INFO] No documents found in {folder}\", file=sys.stderr)\n",
    "        return None\n",
    "\n",
    "    # Split into chunks\n",
    "    text_splitter = RecursiveCharacterTextSplitter(chunk_size=1000, chunk_overlap=100)\n",
    "    docs = text_splitter.split_documents(documents)\n",
    "\n",
    "    # Add regulator_code metadata\n",
    "    for doc in docs:\n",
    "        doc.metadata[\"regulator_code\"] = \"faa\"\n",
    "\n",
    "    print(f\"[CHUNKS] Prepared {len(docs)} chunks for FAA regulations\")\n",
    "\n",
    "    # Push into Supabase\n",
    "    vs = SupabaseVectorStore.from_documents(\n",
    "        docs,\n",
    "        embeddings,\n",
    "        client=supabase,\n",
    "        table_name=\"regulation_embd\",\n",
    "        query_name=\"match_documents\",  # safer to set explicitly\n",
    "    )\n",
    "    return vs\n",
    "\n",
    "vs = build_vectorstore_faa()\n",
    "if vs:\n",
    "    print(\"[SUCCESS] FAA embeddings uploaded to Supabase table: regulation_embd\")\n",
    "else:\n",
    "    print(\"[FAILED] Could not build vectorstore\")\n"
   ]
  },
  {
   "cell_type": "markdown",
   "id": "b873d0b1-0b8b-4684-b5fb-f880486203b4",
   "metadata": {},
   "source": [
    "### Doc retriver"
   ]
  },
  {
   "cell_type": "code",
   "execution_count": 20,
   "id": "0a8f8cda-77da-4bc0-a97e-3cf348f15974",
   "metadata": {},
   "outputs": [
    {
     "name": "stdout",
     "output_type": "stream",
     "text": [
      "Answer: The safety oversight by the GCAA following the issuance of a heliport or vertiport certificate includes:\n",
      "\n",
      "1. Imposing operating restrictions and/or sanctions at a heliport/vertiport if necessary.\n",
      "2. Conducting further audits/inspections to ensure continued compliance with regulatory and critical safety elements.\n",
      "3. Monitoring the heliport/vertiport to ensure it operates in accordance with the conditions endorsed on the certificate.\n",
      "4. Reassessing previously issued approvals or permissions, especially if there are delays or extended periods of inactivity.\n",
      "5. Ensuring that the operator maintains arrangements with the AIS to keep safety-related conditions of the heliport/vertiport up-to-date and published.\n",
      "\n",
      "If non-compliance or unresolved safety deficiencies are identified, the GCAA may restrict, suspend, or revoke the certificate as per the provisions outlined in the regulations.\n",
      "\n",
      "Sources: [{'page': 51, 'title': 'Microsoft Word - CAR VFI for Publication_29_05_2025', 'author': 'Fatma Al Ali', 'source': './uploaded_pdfs\\\\Copy of PART VFI - VERTICAL FLIGHT INFRASTRUCTURES ISSUE 01.pdf', 'creator': 'PyPDF', 'moddate': '2025-06-26T13:51:33+04:00', 'producer': 'Microsoft: Print To PDF', 'page_label': '52', 'total_pages': 459, 'creationdate': '2025-06-26T13:51:33+04:00', 'regulator_code': 'gaca'}, {'page': 54, 'title': 'Microsoft Word - CAR VFI for Publication_29_05_2025', 'author': 'Fatma Al Ali', 'source': './uploaded_pdfs\\\\Copy of PART VFI - VERTICAL FLIGHT INFRASTRUCTURES ISSUE 01.pdf', 'creator': 'PyPDF', 'moddate': '2025-06-26T13:51:33+04:00', 'producer': 'Microsoft: Print To PDF', 'page_label': '55', 'total_pages': 459, 'creationdate': '2025-06-26T13:51:33+04:00', 'regulator_code': 'gaca'}, {'page': 47, 'title': 'Microsoft Word - CAR VFI for Publication_29_05_2025', 'author': 'Fatma Al Ali', 'source': './uploaded_pdfs\\\\Copy of PART VFI - VERTICAL FLIGHT INFRASTRUCTURES ISSUE 01.pdf', 'creator': 'PyPDF', 'moddate': '2025-06-26T13:51:33+04:00', 'producer': 'Microsoft: Print To PDF', 'page_label': '48', 'total_pages': 459, 'creationdate': '2025-06-26T13:51:33+04:00', 'regulator_code': 'gaca'}, {'page': 43, 'title': 'Microsoft Word - CAR VFI for Publication_29_05_2025', 'author': 'Fatma Al Ali', 'source': './uploaded_pdfs\\\\Copy of PART VFI - VERTICAL FLIGHT INFRASTRUCTURES ISSUE 01.pdf', 'creator': 'PyPDF', 'moddate': '2025-06-26T13:51:33+04:00', 'producer': 'Microsoft: Print To PDF', 'page_label': '44', 'total_pages': 459, 'creationdate': '2025-06-26T13:51:33+04:00', 'regulator_code': 'gaca'}, {'page': 52, 'title': 'Microsoft Word - CAR VFI for Publication_29_05_2025', 'author': 'Fatma Al Ali', 'source': './uploaded_pdfs\\\\Copy of PART VFI - VERTICAL FLIGHT INFRASTRUCTURES ISSUE 01.pdf', 'creator': 'PyPDF', 'moddate': '2025-06-26T13:51:33+04:00', 'producer': 'Microsoft: Print To PDF', 'page_label': '53', 'total_pages': 459, 'creationdate': '2025-06-26T13:51:33+04:00', 'regulator_code': 'gaca'}]\n"
     ]
    }
   ],
   "source": [
    "from langchain_openai import AzureChatOpenAI\n",
    "from langchain.chains import RetrievalQA\n",
    "from langchain_community.vectorstores import SupabaseVectorStore\n",
    "\n",
    "# Same supabase client + embeddings from before\n",
    "vs = SupabaseVectorStore(\n",
    "    client=supabase,\n",
    "    embedding=embeddings,\n",
    "    table_name=\"regulation_embd\",\n",
    "    query_name=\"match_documents\"  # must match your SQL function if defined\n",
    ")\n",
    "\n",
    "retriever = vs.as_retriever(search_kwargs={\"k\": 5})\n",
    "'''\n",
    "llm = AzureChatOpenAI(\n",
    "    deployment_name=os.getenv(\"AZURE_CHAT_MODEL_NAME\"),\n",
    "    openai_api_key=os.getenv(\"AZURE_CHAT_API_KEY\"),\n",
    "    openai_api_version=\"2024-02-01\",\n",
    "    azure_endpoint=os.getenv(\"AZURE_CHAT_ENDPOINT\"),\n",
    ")\n",
    "'''\n",
    "llm = AzureChatOpenAI(\n",
    "    azure_endpoint=os.getenv(\"AZURE_OPENAI_ENDPOINT\"),\n",
    "    api_key=os.getenv(\"AZURE_OPENAI_API_KEY\"),\n",
    "    api_version=\"2023-07-01-preview\",\n",
    "    model=os.getenv(\"AZURE_OPENAI_MODEL_NAME\"),\n",
    "    temperature=0\n",
    ")\n",
    "\n",
    "qa_chain = RetrievalQA.from_chain_type(\n",
    "    llm=llm,\n",
    "    retriever=retriever,\n",
    "    return_source_documents=True\n",
    ")\n",
    "\n",
    "# query = \"What are the TLOF size requirements according to FAA?\"\n",
    "# query = \"What is MTOW?\"\n",
    "# query = \"Takeoff and Landing Area Minimum Dimensions for TLOF?\"\n",
    "# query = \"Flight Path Alignment?\"\n",
    "# query = \"Perimeter Lighting Intensity and Distribution from Approach Angle 0 to 90 degrees?\"\n",
    "# query = \"What are the requirements for a square TLOF?\"\n",
    "query = \"what are safety oversight by the GCAA following the issue of a heliport / vertiport certificate.\"\n",
    "\n",
    "\"\"\"\n",
    "query = You are given a list of shape dimension properties. For each property, provide the following information in a structured table format:\n",
    "\n",
    "Property Name\n",
    "Default Value (if specified)\n",
    "Minimum Value (if specified, otherwise N/A)\n",
    "Maximum Value (if specified, otherwise N/A)\n",
    "\n",
    "Here are the properties:\n",
    "diameter: number\n",
    "isVisible: boolean\n",
    "layerName: string\n",
    "shapeType: string\n",
    "width: number\n",
    "length: number\n",
    "sides: integer\n",
    "diameter: number\n",
    "height: number\n",
    "baseHeight: number\n",
    "rotation: number\n",
    "transparency: number\n",
    "Please output the results as a table with columns:\n",
    "Property | Default | Min | Max\"\"\"\n",
    "\n",
    "result = qa_chain.invoke(query)\n",
    "\n",
    "print(\"Answer:\", result[\"result\"])\n",
    "print()  # adds a blank line\n",
    "print(\"Sources:\", [doc.metadata for doc in result[\"source_documents\"]])"
   ]
  }
 ],
 "metadata": {
  "kernelspec": {
   "display_name": "Python 3 (ipykernel)",
   "language": "python",
   "name": "python3"
  },
  "language_info": {
   "codemirror_mode": {
    "name": "ipython",
    "version": 3
   },
   "file_extension": ".py",
   "mimetype": "text/x-python",
   "name": "python",
   "nbconvert_exporter": "python",
   "pygments_lexer": "ipython3",
   "version": "3.9.23"
  },
  "widgets": {
   "application/vnd.jupyter.widget-state+json": {
    "state": {},
    "version_major": 2,
    "version_minor": 0
   }
  }
 },
 "nbformat": 4,
 "nbformat_minor": 5
}
