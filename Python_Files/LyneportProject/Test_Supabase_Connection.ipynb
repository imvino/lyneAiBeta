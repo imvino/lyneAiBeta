{
 "cells": [
  {
   "cell_type": "code",
   "execution_count": 6,
   "id": "e40f9266-97c6-499a-b016-24ae774bc7dc",
   "metadata": {},
   "outputs": [],
   "source": [
    "# !pip install supabase"
   ]
  },
  {
   "cell_type": "code",
   "execution_count": 13,
   "id": "87d3da00-2104-4a33-a67d-8d846fe108c6",
   "metadata": {},
   "outputs": [
    {
     "name": "stdout",
     "output_type": "stream",
     "text": [
      "{'id': 551, 'created_at': '2025-06-16T12:50:16.939804+00:00', 'title': 'Praveen_Proj', 'user_id': 'delme', 'project_id': '1750078216744', 'pin_info': {'pinColor': '#1971c2', 'coordinates': [-83.10600257367422, 42.33743427934414]}, 'last_modified': '2025-08-07T07:00:14.379+00:00', 'items': [{'FATO': [{'id': 'FATO-1750831736343', 'groupId': 'group-1754299593690', 'position': [-83.1059847700617, 42.33714460901024], 'isVisible': True, 'dimensions': {'unit': 'm', 'sides': 17, 'width': 30, 'dValue': 10, 'height': 0.72, 'length': 30, 'groupId': 'group-1754299593690', 'aircraft': None, 'diameter': 26.43, 'rotation': 72.67, 'isVisible': True, 'layerName': 'Praveen_FATO', 'netHeight': 15, 'shapeType': 'Polygon', 'baseHeight': 67.16, 'curveAngle': 45, 'dashLength': 1, 'lightColor': 'blue', 'lightScale': 1, 'multiplier': 1.5, 'lightHeight': 0.2, 'lightRadius': 0.3, 'markingType': 'dashed', 'dashDistance': 1, 'markingColor': 'white', 'transparency': 0.71, 'lightCategory': True, 'lightDistance': 1, 'scaleCategory': False, 'textureScaleU': 1, 'textureScaleV': 1, 'vertipadColor': '#808080', 'offsetDistance': 3, 'safetyAreaType': 'multiplier', 'safetyNetColor': '#FF0000', 'safetyNetScaleU': 1, 'safetyNetScaleV': 1, 'aircraftCategory': False, 'markingThickness': 0.5, 'markingsCategory': False, 'safetyNetCategory': False, 'safetyAreaCategory': False, 'safetyNetTransparency': 0.5}, 'layerOrder': 0}, {'id': 'FATO-1751273305722', 'groupId': None, 'position': [-83.10600257367422, 42.33743427934414], 'isVisible': True, 'dimensions': {'unit': 'm', 'sides': 4, 'width': 30, 'dValue': 10, 'height': 0.01, 'length': 30, 'aircraft': None, 'diameter': 30, 'rotation': 0, 'isVisible': True, 'layerName': 'Default_FATO', 'netHeight': 15, 'shapeType': 'Rectangle', 'baseHeight': 0, 'curveAngle': 45, 'dashLength': 1, 'lightColor': 'white', 'lightScale': 1, 'multiplier': 1.5, 'lightHeight': 0.2, 'lightRadius': 0.3, 'markingType': 'dashed', 'dashDistance': 1, 'markingColor': 'white', 'transparency': 1, 'lightCategory': True, 'lightDistance': 1, 'scaleCategory': False, 'textureScaleU': 1, 'textureScaleV': 1, 'vertipadColor': '#808080', 'offsetDistance': 3, 'safetyAreaType': 'multiplier', 'safetyNetColor': '#FF0000', 'safetyNetScaleU': 1, 'safetyNetScaleV': 1, 'aircraftCategory': False, 'markingThickness': 0.5, 'markingsCategory': False, 'safetyNetCategory': False, 'safetyAreaCategory': False, 'safetyNetTransparency': 0.5}, 'layerOrder': 1}, {'id': 'FATO-1751273326904', 'groupId': 'group-1754299465524', 'position': [-83.10600257367422, 42.33743427934414], 'isVisible': True, 'dimensions': {'unit': 'm', 'sides': 3, 'width': 30, 'dValue': 10, 'height': 0.01, 'length': 30, 'groupId': 'group-1754299465524', 'aircraft': None, 'diameter': 1, 'rotation': 0, 'isVisible': True, 'layerName': 'Min_FATO', 'netHeight': 15, 'shapeType': 'Polygon', 'baseHeight': 0, 'curveAngle': 45, 'dashLength': 1, 'lightColor': 'white', 'lightScale': -20, 'multiplier': 1.5, 'lightHeight': 0.1, 'lightRadius': 0.1, 'markingType': 'dashed', 'dashDistance': 1, 'markingColor': 'white', 'transparency': 0, 'lightCategory': True, 'lightDistance': 0.5, 'scaleCategory': False, 'textureScaleU': 1, 'textureScaleV': 1, 'vertipadColor': '#808080', 'offsetDistance': 3, 'safetyAreaType': 'multiplier', 'safetyNetColor': '#FF0000', 'safetyNetScaleU': 1, 'safetyNetScaleV': 1, 'aircraftCategory': False, 'markingThickness': 0.5, 'markingsCategory': False, 'safetyNetCategory': False, 'safetyAreaCategory': False, 'safetyNetTransparency': 0.5}, 'layerOrder': 2}, {'id': 'FATO-1751273341487', 'groupId': 'group-1754299592108', 'position': [-83.10600257367422, 42.33743427934414], 'isVisible': True, 'dimensions': {'sides': 70, 'width': 30, 'dValue': 10, 'height': 5, 'length': 30, 'groupId': 'group-1754299592108', 'aircraft': None, 'diameter': 200, 'rotation': 359, 'isVisible': True, 'layerName': 'Max_FATO', 'netHeight': 15, 'shapeType': 'Polygon', 'baseHeight': 1000, 'curveAngle': 45, 'dashLength': 1, 'lightColor': 'white', 'lightScale': 100, 'multiplier': 1.5, 'lightHeight': 0.25, 'lightRadius': 1, 'markingType': 'dashed', 'dashDistance': 1, 'markingColor': 'white', 'transparency': 1, 'lightCategory': True, 'lightDistance': 50, 'scaleCategory': False, 'textureScaleU': 1, 'textureScaleV': 1, 'vertipadColor': '#808080', 'offsetDistance': 3, 'safetyAreaType': 'multiplier', 'safetyNetColor': '#FF0000', 'safetyNetScaleU': 1, 'safetyNetScaleV': 1, 'aircraftCategory': False, 'markingThickness': 0.5, 'markingsCategory': False, 'safetyNetCategory': False, 'safetyAreaCategory': False, 'safetyNetTransparency': 0.5}, 'layerOrder': 3}]}, {'TLOF': [{'id': 'TLOF-1750831737149', 'groupId': 'group-1754299465524', 'position': [-83.10658119350636, 42.33790591233213], 'isVisible': True, 'dimensions': {'unit': 'm', 'sides': 6, 'width': 30, 'dValue': 16.19, 'height': 0.01, 'length': 30, 'groupId': 'group-1754299465524', 'aircraft': None, 'diameter': 37.57, 'rotation': 25.79, 'tdpcType': 'cross', 'isVisible': True, 'layerName': 'Praveen_TLOF', 'netHeight': 7, 'shapeType': 'Polygon', 'tdpcColor': 'green', 'tdpcScale': 8.4, 'baseHeight': 0, 'curveAngle': 8, 'dashLength': 5, 'lightColor': 'green', 'lightScale': 17.72, 'multiplier': 20, 'lightHeight': 0.18, 'lightRadius': 0.19, 'markerColor': 'brown', 'markerScale': 5.9, 'markingType': 'dashed', 'dashDistance': 0.5, 'markingColor': 'orange', 'tdpcCategory': True, 'tdpcRotation': 76, 'transparency': 0.82, 'landingMarker': 'H', 'lightCategory': True, 'lightDistance': 16, 'scaleCategory': False, 'tdpcExtrusion': 0.05, 'tdpcThickness': 3.68, 'textureScaleU': 1, 'textureScaleV': 1, 'vertipadColor': '#808080', 'markerRotation': 29.1, 'offsetDistance': 6.62, 'safetyAreaType': 'offset', 'safetyNetColor': '#f70015', 'letterThickness': 5.23, 'markerThickness': 0.11, 'safetyNetScaleU': 1, 'safetyNetScaleV': 1, 'aircraftCategory': False, 'markingThickness': 0.66, 'markingsCategory': True, 'safetyNetCategory': True, 'safetyNetImageUrl': None, 'safetyAreaCategory': True, 'safetyNetTimestamp': None, 'landingMarkerCategory': True, 'safetyNetTransparency': 0.6}, 'layerOrder': 4}, {'id': 'TLOF-1751267399155', 'groupId': None, 'position': [-83.10600257367422, 42.33743427934414], 'isVisible': True, 'dimensions': {'unit': 'm', 'sides': 70, 'width': 30, 'dValue': 20, 'height': 5, 'length': 30, 'aircraft': None, 'diameter': 200, 'rotation': 359, 'tdpcType': 'circle', 'isVisible': True, 'layerName': 'Max_TLOF', 'netHeight': 100, 'shapeType': 'Polygon', 'tdpcColor': 'white', 'tdpcScale': 50, 'baseHeight': 1000, 'curveAngle': 90, 'dashLength': 5, 'lightColor': 'white', 'lightScale': 100, 'multiplier': 20, 'lightHeight': 0.25, 'lightRadius': 1, 'markerColor': 'white', 'markerScale': 50, 'markingType': 'dashed', 'dashDistance': 5, 'markingColor': 'white', 'tdpcCategory': True, 'tdpcRotation': 359, 'transparency': 1, 'landingMarker': 'H', 'lightCategory': True, 'lightDistance': 50, 'scaleCategory': False, 'tdpcExtrusion': 1, 'tdpcThickness': 50, 'textureScaleU': 1, 'textureScaleV': 1, 'vertipadColor': '#808080', 'markerRotation': 359, 'offsetDistance': 50, 'safetyAreaType': 'offset', 'safetyNetColor': '#FF0000', 'letterThickness': 50, 'markerThickness': 1, 'safetyNetScaleU': 1, 'safetyNetScaleV': 1, 'aircraftCategory': False, 'markingThickness': 1.5, 'markingsCategory': True, 'safetyNetCategory': True, 'safetyAreaCategory': True, 'landingMarkerCategory': True, 'safetyNetTransparency': 1}, 'layerOrder': 5}, {'id': 'TLOF-1751267419998', 'groupId': None, 'position': [-83.10600257367422, 42.33743427934414], 'isVisible': True, 'dimensions': {'sides': 3, 'width': 30, 'dValue': 1, 'height': 0.01, 'length': 30, 'aircraft': None, 'diameter': 1, 'rotation': 0, 'tdpcType': 'circle', 'isVisible': True, 'layerName': 'Min_TLOF', 'netHeight': 0, 'shapeType': 'Polygon', 'tdpcColor': 'white', 'tdpcScale': 0.5, 'baseHeight': 0, 'curveAngle': 0, 'dashLength': 0.5, 'lightColor': 'white', 'lightScale': -20, 'multiplier': 0.5, 'lightHeight': 0.1, 'lightRadius': 0.1, 'markerColor': 'white', 'markerScale': 0.5, 'markingType': 'dashed', 'dashDistance': 0.5, 'markingColor': 'white', 'tdpcCategory': True, 'tdpcRotation': 0, 'transparency': 0, 'landingMarker': 'H', 'lightCategory': True, 'lightDistance': 1, 'scaleCategory': False, 'tdpcExtrusion': 0, 'tdpcThickness': 0.1, 'textureScaleU': 1, 'textureScaleV': 1, 'vertipadColor': '#808080', 'markerRotation': 0, 'offsetDistance': 3, 'safetyAreaType': 'multiplier', 'safetyNetColor': '#FF0000', 'letterThickness': 0, 'markerThickness': 0, 'safetyNetScaleU': 1, 'safetyNetScaleV': 1, 'aircraftCategory': False, 'markingThickness': 0.1, 'markingsCategory': True, 'safetyNetCategory': True, 'safetyAreaCategory': True, 'landingMarkerCategory': True, 'safetyNetTransparency': 0}, 'layerOrder': 6}, {'id': 'TLOF-1751267700805', 'groupId': 'group-1754299465524', 'position': [-83.10600257367422, 42.33743427934414], 'isVisible': True, 'dimensions': {'unit': 'm', 'sides': 4, 'width': 30, 'dValue': 10, 'height': 0.01, 'length': 30, 'groupId': 'group-1754299465524', 'aircraft': None, 'diameter': 30, 'rotation': 0, 'tdpcType': 'circle', 'isVisible': True, 'layerName': 'Default_TLOF', 'netHeight': 15, 'shapeType': 'Rectangle', 'tdpcColor': 'white', 'tdpcScale': 5, 'baseHeight': 0, 'curveAngle': 45, 'dashLength': 1, 'lightColor': 'white', 'lightScale': 1, 'multiplier': 1.5, 'lightHeight': 0.2, 'lightRadius': 0.3, 'markerColor': 'white', 'markerScale': 1, 'markingType': 'dashed', 'dashDistance': 1, 'markingColor': 'white', 'tdpcCategory': True, 'tdpcRotation': 0, 'transparency': 1, 'landingMarker': 'H', 'lightCategory': True, 'lightDistance': 1, 'scaleCategory': False, 'tdpcExtrusion': 0.02, 'tdpcThickness': 0.5, 'textureScaleU': 1, 'textureScaleV': 1, 'vertipadColor': '#808080', 'markerRotation': 0, 'offsetDistance': 3, 'safetyAreaType': 'multiplier', 'safetyNetColor': '#FF0000', 'letterThickness': 0.5, 'markerThickness': 0.02, 'safetyNetScaleU': 1, 'safetyNetScaleV': 1, 'aircraftCategory': False, 'markingThickness': 0.5, 'markingsCategory': True, 'safetyNetCategory': True, 'safetyAreaCategory': True, 'landingMarkerCategory': True, 'safetyNetTransparency': 0.5}, 'layerOrder': 7}]}, {'TAXIWAY': []}, {'SHAPE': []}, {'MODEL': []}, {'VOLUME': []}, {'FLIGHTPATH': []}, {'FLIGHTPATH_VFR': []}, {'BUILDING': {}}, {'GROUPS': [{'id': 'group-1754299593690', 'name': 'New Group (2)', 'createdAt': '2025-08-04T09:26:33.690Z', 'isVisible': True, 'isExpanded': True, 'layerOrder': 0}, {'id': 'group-1754299592108', 'name': 'New Group (1)', 'createdAt': '2025-08-04T09:26:32.108Z', 'isVisible': True, 'isExpanded': True, 'layerOrder': 1}, {'id': 'group-1754299465524', 'name': 'New Group', 'createdAt': '2025-08-04T09:24:25.524Z', 'isVisible': True, 'isExpanded': True, 'layerOrder': 2}]}], 'sims': {'controls': {'lifetime': 1.8, 'tiltRoll': 39, 'tiltPitch': -6, 'circleRadius': 5, 'emissionRate': 18, 'modelOffsetX': 0, 'modelOffsetY': 0, 'particleLife': 2.8, 'particleSize': 9.01, 'circleEmitter': 3, 'particleSpeed': 0.0001, 'curveThickness': 1, 'lightIntensity': 15, 'modelElevation': 0, 'modelOrientation': 0, 'selectedAircraft': '1', 'angleOffsetSlider': 0, 'aircraftOrientation': 0}, 'coordinates': [{'height': 500, 'latitude': 42.33743427934414, 'longitude': -83.10600257367422}, {'height': 600, 'latitude': 42.33743427934414, 'longitude': -83.10600257367422}, {'height': 600, 'latitude': 42.33743427934414, 'longitude': -83.10500257367421}], 'currentFans': [{'x': 0.4, 'y': 0, 'z': 0, 'id': 'fan1', 'enabled': True, 'direction': 'vertical'}]}, 'limits': None, 'group_id': 'default', 'isMarkerVisible': True, 'unified_layers': None, 'layer_order': [], 'layer_groups': []}\n"
     ]
    }
   ],
   "source": [
    "import os\n",
    "from supabase import create_client, Client\n",
    "from dotenv import load_dotenv\n",
    "\n",
    "load_dotenv()\n",
    "\n",
    "SUPABASE_URL = os.getenv(\"SUPABASE_URL\")\n",
    "SUPABASE_KEY = os.getenv(\"SUPABASE_KEY\")\n",
    "\n",
    "supabase: Client = create_client(SUPABASE_URL, SUPABASE_KEY)\n",
    "\n",
    "try:\n",
    "    # Select rows from `projects`\n",
    "    response = supabase.table(\"projects\").select(\"*\").eq(\"project_id\", 1750078216744).execute()\n",
    "    for row in response.data:\n",
    "        print(row)\n",
    "except Exception as e:\n",
    "    print(\"❌ Failed:\", e)"
   ]
  }
 ],
 "metadata": {
  "kernelspec": {
   "display_name": "Python 3 (ipykernel)",
   "language": "python",
   "name": "python3"
  },
  "language_info": {
   "codemirror_mode": {
    "name": "ipython",
    "version": 3
   },
   "file_extension": ".py",
   "mimetype": "text/x-python",
   "name": "python",
   "nbconvert_exporter": "python",
   "pygments_lexer": "ipython3",
   "version": "3.9.23"
  },
  "widgets": {
   "application/vnd.jupyter.widget-state+json": {
    "state": {},
    "version_major": 2,
    "version_minor": 0
   }
  }
 },
 "nbformat": 4,
 "nbformat_minor": 5
}
