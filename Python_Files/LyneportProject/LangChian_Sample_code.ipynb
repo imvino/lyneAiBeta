{
 "cells": [
  {
   "cell_type": "code",
   "execution_count": null,
   "id": "cd8cec49-bf8d-4551-a2ab-316dc52bd7e8",
   "metadata": {},
   "outputs": [],
   "source": [
    "import os\n",
    "from dotenv import load_dotenv\n",
    "from langchain.schema import HumanMessage\n",
    "from langchain_openai import AzureChatOpenAI\n",
    "\n",
    "# Load environment variables from .env\n",
    "load_dotenv()\n",
    "\n",
    "# Initialize Azure OpenAI chat model\n",
    "model = AzureChatOpenAI(\n",
    "    #azure_endpoint=os.getenv(\"AZURE_OPENAI_ENDPOINT\"),\n",
    "    #api_key=os.getenv(\"AZURE_OPENAI_API_KEY\"),\n",
    "    api_version=\"2023-07-01-preview\",\n",
    "    model=os.getenv(\"AZURE_OPENAI_MODEL_NAME\"),\n",
    "    temperature=0\n",
    ")"
   ]
  },
  {
   "cell_type": "code",
   "execution_count": null,
   "id": "dd4dfa84-5033-4dbe-b1d0-e4fe838c7fd8",
   "metadata": {},
   "outputs": [],
   "source": [
    "import os\n",
    "from dotenv import load_dotenv\n",
    "from langchain.schema import HumanMessage\n",
    "from langchain_openai import AzureChatOpenAI\n",
    "\n",
    "# Load environment variables from .env\n",
    "load_dotenv()\n",
    "\n",
    "# Initialize Azure OpenAI chat model\n",
    "model = AzureChatOpenAI(\n",
    "    #azure_endpoint=\"https://lyneportsai.openai.azure.com/\",\n",
    "    #api_key=\"\",\n",
    "    api_version=\"2023-07-01-preview\",\n",
    "    model=\"gpt-4\",\n",
    "    temperature=0\n",
    ")"
   ]
  },
  {
   "cell_type": "code",
   "execution_count": 3,
   "id": "309af5a9-9e0f-4366-a283-23f67f508cc7",
   "metadata": {},
   "outputs": [
    {
     "name": "stdout",
     "output_type": "stream",
     "text": [
      "The capital of India is New Delhi.\n"
     ]
    }
   ],
   "source": [
    "\n",
    "# Create and send message\n",
    "messages = [HumanMessage(content=\"Capital of India\")]\n",
    "response = model.invoke(messages)\n",
    "\n",
    "# Output response\n",
    "print(response.content)"
   ]
  }
 ],
 "metadata": {
  "kernelspec": {
   "display_name": "Python 3 (ipykernel)",
   "language": "python",
   "name": "python3"
  },
  "language_info": {
   "codemirror_mode": {
    "name": "ipython",
    "version": 3
   },
   "file_extension": ".py",
   "mimetype": "text/x-python",
   "name": "python",
   "nbconvert_exporter": "python",
   "pygments_lexer": "ipython3",
   "version": "3.9.23"
  },
  "widgets": {
   "application/vnd.jupyter.widget-state+json": {
    "state": {},
    "version_major": 2,
    "version_minor": 0
   }
  }
 },
 "nbformat": 4,
 "nbformat_minor": 5
}
