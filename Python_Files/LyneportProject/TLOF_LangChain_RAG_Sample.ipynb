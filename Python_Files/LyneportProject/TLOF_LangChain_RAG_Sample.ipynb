{
 "cells": [
  {
   "cell_type": "code",
   "execution_count": null,
   "id": "db218bf5-a5d3-4390-ba06-4556ee0d3f2c",
   "metadata": {},
   "outputs": [],
   "source": [
    "import os\n",
    "import json\n",
    "import requests\n",
    "from datetime import datetime\n",
    "from dotenv import load_dotenv\n",
    "from langchain_core.tools import tool\n",
    "from langchain_openai import AzureChatOpenAI\n",
    "from langchain_core.prompts import ChatPromptTemplate\n",
    "from langchain_core.messages import HumanMessage, ToolMessage\n",
    "\n",
    "# Load environment variables\n",
    "load_dotenv()\n",
    "\n",
    "# Initialize Azure OpenAI client via LangChain\n",
    "model = AzureChatOpenAI(\n",
    "    azure_endpoint=os.getenv(\"AZURE_OPENAI_ENDPOINT\"),\n",
    "    #api_key=os.getenv(\"AZURE_OPENAI_API_KEY\"),\n",
    "    api_version=\"2023-07-01-preview\",\n",
    "    model=os.getenv(\"AZURE_OPENAI_MODEL_NAME\"),\n",
    "    temperature=0\n",
    ")"
   ]
  },
  {
   "cell_type": "code",
   "execution_count": null,
   "id": "581fe3c8-6166-4120-b3b3-8665516e51c3",
   "metadata": {},
   "outputs": [],
   "source": [
    "import os\n",
    "from langchain_community.document_loaders import DirectoryLoader, PyPDFLoader\n",
    "from langchain_text_splitters import CharacterTextSplitter\n",
    "from langchain_openai import AzureOpenAIEmbeddings, AzureChatOpenAI\n",
    "from langchain_community.vectorstores import AzureSearch\n",
    "from langchain_community.retrievers import AzureAISearchRetriever\n",
    "from langchain.chains.combine_documents.stuff import create_stuff_documents_chain\n",
    "from langchain.chains import create_retrieval_chain\n",
    "\n",
    "# env vars (set these with your values)\n",
    "##os.environ[\"AZURE_AI_SEARCH_SERVICE_NAME\"] = \"<your-search-service-name>\"  # endpoint name (service name)\n",
    "#os.environ[\"AZURE_AI_SEARCH_INDEX_NAME\"] = \"langchain-vector-demo\"\n",
    "#os.environ[\"AZURE_AI_SEARCH_API_KEY\"] = \"<your-search-admin-key>\"\n",
    "\n",
    "#AZURE_OPENAI_ENDPOINT = \"https://<your-azure-openai>.openai.azure.com\"\n",
    "#AZURE_OPENAI_KEY = \"<your-azure-openai-key>\"\n",
    "#AZURE_EMBED_DEPLOYMENT = \"<embedding-deployment-name>\"  # e.g., text-embedding-3-large\n",
    "\n",
    "# 1) Load documents\n",
    "loader = DirectoryLoader(\"./docs\", glob=\"**/*.pdf\", loader_cls=PyPDFLoader)\n",
    "documents = loader.load()\n",
    "\n",
    "# 2) Chunk\n",
    "splitter = CharacterTextSplitter(chunk_size=800, chunk_overlap=100)\n",
    "docs = splitter.split_documents(documents)\n",
    "\n",
    "# 3) Embeddings: AzureOpenAIEmbeddings (you must have an embedding deployment)\n",
    "embeddings = AzureOpenAIEmbeddings(\n",
    "    azure_deployment=AZURE_EMBED_DEPLOYMENT,\n",
    "    azure_endpoint=AZURE_OPENAI_ENDPOINT,\n",
    "    #openai_api_key=AZURE_OPENAI_KEY,\n",
    ")\n",
    "\n",
    "# 4) Create or connect AzureSearch vector store (this creates index for you)\n",
    "vector_store = AzureSearch(\n",
    "   # azure_search_endpoint=os.getenv(\"AZURE_AI_SEARCH_SERVICE_NAME\"),\n",
    "    #azure_search_key=os.getenv(\"AZURE_AI_SEARCH_API_KEY\"),\n",
    "   # index_name=os.getenv(\"AZURE_AI_SEARCH_INDEX_NAME\"),\n",
    "    embedding_function=embeddings.embed_query,  # function to produce embeddings\n",
    ")\n",
    "\n",
    "# 5) Add documents (this will create index schema and upload embeddings)\n",
    "vector_store.add_documents(documents=docs)\n",
    "\n",
    "# 6) Create retriever (LangChain wrapper)\n",
    "retriever = AzureAISearchRetriever(content_key=\"content\", top_k=4, index_name=os.getenv(\"AZURE_AI_SEARCH_INDEX_NAME\"))\n",
    "\n",
    "# 7) LLM for answer generation (AzureChatOpenAI)\n",
    "llm = AzureChatOpenAI(azure_deployment=\"<llm-deployment-name>\", temperature=0.0, max_tokens=1000)\n",
    "\n",
    "# 8) Build retrieval chain and use it\n",
    "combine_chain = create_stuff_documents_chain(llm)\n",
    "retrieval_chain = create_retrieval_chain(retriever=retriever, combine_docs_chain=combine_chain)\n",
    "\n",
    "resp = retrieval_chain.invoke({\"input\": \"Give me a short summary of the process to onboard a new customer from the docs.\"})\n",
    "print(resp[\"answer\"])\n"
   ]
  }
 ],
 "metadata": {
  "kernelspec": {
   "display_name": "Python 3 (ipykernel)",
   "language": "python",
   "name": "python3"
  },
  "language_info": {
   "codemirror_mode": {
    "name": "ipython",
    "version": 3
   },
   "file_extension": ".py",
   "mimetype": "text/x-python",
   "name": "python",
   "nbconvert_exporter": "python",
   "pygments_lexer": "ipython3",
   "version": "3.9.23"
  },
  "widgets": {
   "application/vnd.jupyter.widget-state+json": {
    "state": {},
    "version_major": 2,
    "version_minor": 0
   }
  }
 },
 "nbformat": 4,
 "nbformat_minor": 5
}
