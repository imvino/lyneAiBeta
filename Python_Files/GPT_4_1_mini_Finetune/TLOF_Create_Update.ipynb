{
 "cells": [
  {
   "cell_type": "code",
   "execution_count": 2,
   "id": "22bf3986-0f81-4068-987d-b579ebc9fd64",
   "metadata": {},
   "outputs": [
    {
     "name": "stdin",
     "output_type": "stream",
     "text": [
      "Enter your request (e.g., 'Create a TLOF with rotation 50'):\n",
      " Create a TLOF with rotation 50\n"
     ]
    },
    {
     "ename": "NameError",
     "evalue": "name 'function_def' is not defined",
     "output_type": "error",
     "traceback": [
      "\u001b[1;31m---------------------------------------------------------------------------\u001b[0m",
      "\u001b[1;31mNameError\u001b[0m                                 Traceback (most recent call last)",
      "Cell \u001b[1;32mIn[2], line 78\u001b[0m\n\u001b[0;32m     75\u001b[0m     \u001b[38;5;28;01melse\u001b[39;00m:\n\u001b[0;32m     76\u001b[0m         generate_new_layout(user_prompt)\n\u001b[1;32m---> 78\u001b[0m \u001b[43mmain\u001b[49m\u001b[43m(\u001b[49m\u001b[43m)\u001b[49m\n",
      "Cell \u001b[1;32mIn[2], line 76\u001b[0m, in \u001b[0;36mmain\u001b[1;34m()\u001b[0m\n\u001b[0;32m     74\u001b[0m     update_existing_layout(user_prompt)\n\u001b[0;32m     75\u001b[0m \u001b[38;5;28;01melse\u001b[39;00m:\n\u001b[1;32m---> 76\u001b[0m     \u001b[43mgenerate_new_layout\u001b[49m\u001b[43m(\u001b[49m\u001b[43muser_prompt\u001b[49m\u001b[43m)\u001b[49m\n",
      "Cell \u001b[1;32mIn[2], line 31\u001b[0m, in \u001b[0;36mgenerate_new_layout\u001b[1;34m(user_prompt)\u001b[0m\n\u001b[0;32m     29\u001b[0m \u001b[38;5;28;01mdef\u001b[39;00m\u001b[38;5;250m \u001b[39m\u001b[38;5;21mgenerate_new_layout\u001b[39m(user_prompt):\n\u001b[0;32m     30\u001b[0m     \u001b[38;5;66;03m# Use your full function definition here\u001b[39;00m\n\u001b[1;32m---> 31\u001b[0m     args \u001b[38;5;241m=\u001b[39m call_model_with_prompt(user_prompt, \u001b[43mfunction_def\u001b[49m, \u001b[38;5;124m\"\u001b[39m\u001b[38;5;124mgenerate_landing_surface_layout\u001b[39m\u001b[38;5;124m\"\u001b[39m)\n\u001b[0;32m     33\u001b[0m     \u001b[38;5;66;03m# Apply safety limits here if needed\u001b[39;00m\n\u001b[0;32m     34\u001b[0m     \u001b[38;5;28mprint\u001b[39m(\u001b[38;5;124m\"\u001b[39m\u001b[38;5;124m✅ New TLOF layout created with user-specified fields.\u001b[39m\u001b[38;5;124m\"\u001b[39m)\n",
      "\u001b[1;31mNameError\u001b[0m: name 'function_def' is not defined"
     ]
    }
   ],
   "source": [
    "import os\n",
    "import json\n",
    "from openai import AzureOpenAI\n",
    "from dotenv import load_dotenv\n",
    "\n",
    "load_dotenv()\n",
    "\n",
    "client = AzureOpenAI(\n",
    "    api_key=os.getenv(\"AZURE_OPENAI_API_KEY\"),\n",
    "    api_version=\"2024-12-01-preview\",\n",
    "    azure_endpoint=os.getenv(\"AZURE_OPENAI_ENDPOINT\")\n",
    ")\n",
    "\n",
    "# Path to your saved layout\n",
    "TLOF_FILE_PATH = \"tlof_output.json\"\n",
    "\n",
    "def prompt_user():\n",
    "    return input(\"Enter your request (e.g., 'Create a TLOF with rotation 50'):\\n\")\n",
    "\n",
    "def call_model_with_prompt(prompt, functions, func_name):\n",
    "    response = client.chat.completions.create(\n",
    "        model=os.getenv(\"AZURE_OPENAI_MODEL_NAME\"),\n",
    "        messages=[{\"role\": \"user\", \"content\": prompt}],\n",
    "        functions=functions,\n",
    "        function_call={\"name\": func_name}\n",
    "    )\n",
    "    return json.loads(response.choices[0].message.function_call.arguments)\n",
    "\n",
    "def generate_new_layout(user_prompt):\n",
    "    # Use your full function definition here\n",
    "    args = call_model_with_prompt(user_prompt, function_def, \"generate_landing_surface_layout\")\n",
    "\n",
    "    # Apply safety limits here if needed\n",
    "    print(\"✅ New TLOF layout created with user-specified fields.\")\n",
    "    print(json.dumps(args, indent=2))\n",
    "    with open(TLOF_FILE_PATH, \"w\") as f:\n",
    "        json.dump(args, f, indent=2)\n",
    "\n",
    "def update_existing_layout(user_prompt):\n",
    "    with open(TLOF_FILE_PATH, \"r\") as f:\n",
    "        existing_json = json.load(f)\n",
    "\n",
    "    update_args = call_model_with_prompt(\n",
    "        user_prompt,\n",
    "        [{\n",
    "            \"name\": \"update_fields\",\n",
    "            \"description\": \"Extract only the fields being updated.\",\n",
    "            \"parameters\": {\n",
    "                \"type\": \"object\",\n",
    "                \"properties\": {\n",
    "                    \"rotation\": {\"type\": \"number\"},\n",
    "                    \"markerColor\": {\"type\": \"string\"},\n",
    "                    # Add more updateable fields here\n",
    "                }\n",
    "            }\n",
    "        }],\n",
    "        \"update_fields\"\n",
    "    )\n",
    "\n",
    "    for key, value in update_args.items():\n",
    "        if key in existing_json[\"TLOF\"][0][\"dimensions\"]:\n",
    "            existing_json[\"TLOF\"][0][\"dimensions\"][key] = value\n",
    "            print(f\"✅ Updated '{key}' to {value}\")\n",
    "        else:\n",
    "            print(f\"⚠️ Field '{key}' not found in layout.\")\n",
    "\n",
    "    with open(TLOF_FILE_PATH, \"w\") as f:\n",
    "        json.dump(existing_json, f, indent=2)\n",
    "    print(\"📝 Updated layout saved.\")\n",
    "\n",
    "def main():\n",
    "    user_prompt = prompt_user()\n",
    "    if os.path.exists(TLOF_FILE_PATH):\n",
    "        update_existing_layout(user_prompt)\n",
    "    else:\n",
    "        generate_new_layout(user_prompt)\n",
    "\n",
    "main()\n"
   ]
  }
 ],
 "metadata": {
  "kernelspec": {
   "display_name": "Python 3 (ipykernel)",
   "language": "python",
   "name": "python3"
  },
  "language_info": {
   "codemirror_mode": {
    "name": "ipython",
    "version": 3
   },
   "file_extension": ".py",
   "mimetype": "text/x-python",
   "name": "python",
   "nbconvert_exporter": "python",
   "pygments_lexer": "ipython3",
   "version": "3.9.23"
  },
  "widgets": {
   "application/vnd.jupyter.widget-state+json": {
    "state": {},
    "version_major": 2,
    "version_minor": 0
   }
  }
 },
 "nbformat": 4,
 "nbformat_minor": 5
}
