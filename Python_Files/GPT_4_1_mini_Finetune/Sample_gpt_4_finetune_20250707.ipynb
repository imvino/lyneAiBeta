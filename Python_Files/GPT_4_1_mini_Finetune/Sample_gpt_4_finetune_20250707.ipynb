{
 "cells": [
  {
   "cell_type": "code",
   "execution_count": 1,
   "id": "00eccbbf-855f-4893-8f30-deb127fd7b61",
   "metadata": {},
   "outputs": [
    {
     "name": "stdout",
     "output_type": "stream",
     "text": [
      "That’s wonderful! Paris is full of incredible sights and experiences. Here are some must-see places and activities for your trip:\n",
      "\n",
      "**Iconic Landmarks**\n",
      "1. Eiffel Tower – Go up for breathtaking views, or enjoy a picnic in the Champs de Mars.\n",
      "2. Notre-Dame Cathedral – Admire the Gothic architecture (note: check if it’s open to visitors due to restoration work).\n",
      "3. Arc de Triomphe – Climb to the top for a spectacular view of the Champs-Élysées.\n",
      "4. Sacré-Cœur Basilica – Visit the beautiful church and stroll around Montmartre’s artistic streets.\n",
      "\n",
      "**World-Class Museums**\n",
      "5. The Louvre – See the Mona Lisa and countless other masterpieces.\n",
      "6. Musée d’Orsay – Marvel at Impressionist art in a stunning former railway station.\n",
      "7. Centre Pompidou – Explore modern and contemporary art with unique architecture.\n",
      "\n",
      "**Quintessential Parisian Experiences**\n",
      "8. Seine River Cruise – See the city’s landmarks from the water, especially magical at night.\n",
      "9. Stroll through Le Marais – Discover trendy shops, cafes, and historic buildings.\n",
      "10. Luxembourg Gardens – Relax in these elegant gardens, perfect for people-watching.\n",
      "\n",
      "**Cultural & Culinary Delights**\n",
      "11. Latin Quarter – Wander picturesque streets, visit the Panthéon, and enjoy local cuisine.\n",
      "12. Sainte-Chapelle – Gaze at the breathtaking stained-glass windows.\n",
      "13. Try French pastries – Don’t miss out on croissants, éclairs, or macarons at a local bakery.\n",
      "14. Visit a café – Savor coffee or wine at a classic Parisian sidewalk café.\n",
      "\n",
      "**Hidden Gems**\n",
      "15. Canal Saint-Martin – Charming area with footbridges and relaxed vibe.\n",
      "16. Père Lachaise Cemetery – See the graves of Oscar Wilde, Jim Morrison, and Edith Piaf.\n",
      "17. Rue Cler Market Street – Explore a traditional Parisian street market.\n",
      "\n",
      "**Helpful Tips:**\n",
      "- Consider buying a Paris Museum Pass if you plan to visit many museums.\n",
      "- Be prepared to walk—a lot! Paris is best explored on foot.\n",
      "- Learn a few basic French phrases; Parisians appreciate the effort.\n",
      "\n",
      "Let me know if you’d like recommendations based on your interests (art, shopping, food, history, etc.) or help with planning your itinerary!\n"
     ]
    }
   ],
   "source": [
    "import os\n",
    "from dotenv import load_dotenv\n",
    "from openai import AzureOpenAI\n",
    "\n",
    "load_dotenv()\n",
    "\n",
    "endpoint = os.getenv('AZURE_OPENAI_ENDPOINT')\n",
    "model_name = \"gpt-4.1\"\n",
    "deployment = \"gpt-4-04-14\"\n",
    "api_key=os.getenv('AZURE_OPENAI_API_KEY')\n",
    "\n",
    "api_version = \"2024-12-01-preview\"\n",
    "\n",
    "client = AzureOpenAI(\n",
    "    api_version=api_version,\n",
    "    azure_endpoint=endpoint,\n",
    "    api_key=api_key,\n",
    ")\n",
    "\n",
    "response = client.chat.completions.create(\n",
    "    messages=[\n",
    "        {\n",
    "            \"role\": \"system\",\n",
    "            \"content\": \"You are a helpful assistant.\",\n",
    "        },\n",
    "        {\n",
    "            \"role\": \"user\",\n",
    "            \"content\": \"I am going to Paris, what should I see?\",\n",
    "        }\n",
    "    ],\n",
    "    max_completion_tokens=800,\n",
    "    temperature=1.0,\n",
    "    top_p=1.0,\n",
    "    frequency_penalty=0.0,\n",
    "    presence_penalty=0.0,\n",
    "    model=deployment\n",
    ")\n",
    "\n",
    "print(response.choices[0].message.content)"
   ]
  }
 ],
 "metadata": {
  "kernelspec": {
   "display_name": "Python 3 (ipykernel)",
   "language": "python",
   "name": "python3"
  },
  "language_info": {
   "codemirror_mode": {
    "name": "ipython",
    "version": 3
   },
   "file_extension": ".py",
   "mimetype": "text/x-python",
   "name": "python",
   "nbconvert_exporter": "python",
   "pygments_lexer": "ipython3",
   "version": "3.9.23"
  },
  "widgets": {
   "application/vnd.jupyter.widget-state+json": {
    "state": {},
    "version_major": 2,
    "version_minor": 0
   }
  }
 },
 "nbformat": 4,
 "nbformat_minor": 5
}
