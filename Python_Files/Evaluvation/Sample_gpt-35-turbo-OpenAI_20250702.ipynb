{
 "cells": [
  {
   "cell_type": "markdown",
   "id": "64bb7d50-221f-4ec6-9e19-7d6c9b398a48",
   "metadata": {},
   "source": [
    "### Test Connection"
   ]
  },
  {
   "cell_type": "code",
   "execution_count": 20,
   "id": "0f31dce0-0e64-4856-bd27-2d69d605f7cb",
   "metadata": {},
   "outputs": [
    {
     "name": "stdout",
     "output_type": "stream",
     "text": [
      "✅ Connected!\n"
     ]
    }
   ],
   "source": [
    "from dotenv import load_dotenv\n",
    "from openai import AzureOpenAI\n",
    "import os\n",
    "load_dotenv()\n",
    "client = AzureOpenAI(\n",
    "    api_key=os.getenv('AZURE_OPENAI_API_KEY'),\n",
    "    api_version='2024-02-01',\n",
    "    azure_endpoint=os.getenv('AZURE_OPENAI_ENDPOINT')\n",
    ")\n",
    "print('✅ Connected!' if client.chat.completions.create(\n",
    "    model=os.getenv('AZURE_OPENAI_MODEL_NAME'),\n",
    "    messages=[{'role': 'user', 'content': 'Hi'}],\n",
    "    max_tokens=1\n",
    ") else '❌ Failed')"
   ]
  },
  {
   "cell_type": "markdown",
   "id": "3ac0ab0e-55a7-418b-ae1f-684e97aecffe",
   "metadata": {},
   "source": [
    "### 1. Authentication using API Key\n",
    "For OpenAI API Endpoints, deploy the Model to generate the endpoint URL and an API key to authenticate against the service. In this sample endpoint and key are strings holding the endpoint URL and the API Key.\n",
    "\n",
    "The API endpoint URL and API key can be found on the Deployments + Endpoint page once the model is deployed.\n",
    "\n",
    "To create a client with the OpenAI SDK using an API key, initialize the client by passing your API key to the SDK's configuration. This allows you to authenticate and interact with OpenAI's services seamlessly:"
   ]
  },
  {
   "cell_type": "code",
   "execution_count": 7,
   "id": "e3e79e1f-0dcc-439d-9801-b9229494236d",
   "metadata": {},
   "outputs": [
    {
     "name": "stdout",
     "output_type": "stream",
     "text": [
      "Requirement already satisfied: python-dotenv in c:\\users\\source\\anaconda3\\envs\\lynepots_env\\lib\\site-packages (1.1.0)\n"
     ]
    }
   ],
   "source": [
    "!pip install python-dotenv"
   ]
  },
  {
   "cell_type": "code",
   "execution_count": 14,
   "id": "d66bac0e-dac7-43d1-bea7-7ec6dd896dee",
   "metadata": {},
   "outputs": [
    {
     "name": "stdout",
     "output_type": "stream",
     "text": [
      "Endpoint: https://lyneports-openai.openai.azure.com/openai/deployments/gpt-35-turbo-OpenAI/chat/completions?api-version=2025-01-01-preview\n"
     ]
    }
   ],
   "source": [
    "import os\n",
    "from dotenv import load_dotenv\n",
    "\n",
    "# Load variables from .env file\n",
    "load_dotenv()\n",
    "\n",
    "# Access the environment variables\n",
    "azure_endpoint = os.getenv(\"AZURE_OPENAI_ENDPOINT\")\n",
    "api_key = os.getenv(\"AZURE_OPENAI_API_KEY\")\n",
    "\n",
    "print(\"Endpoint:\", azure_endpoint)\n",
    "# DO NOT print your API key in production\n"
   ]
  },
  {
   "cell_type": "code",
   "execution_count": 15,
   "id": "0264f528-4bd0-43c4-b368-e850f1e32c99",
   "metadata": {},
   "outputs": [],
   "source": [
    "import os\n",
    "from openai import AzureOpenAI\n",
    "\n",
    "client = AzureOpenAI(\n",
    "    api_version=\"2024-12-01-preview\",\n",
    "    #azure_endpoint=\"https://lyneports-openai.openai.azure.com/\",   \n",
    "    azure_endpoint=os.getenv(\"AZURE_OPENAI_ENDPOINT\"),\n",
    "    api_key=os.getenv(\"AZURE_OPENAI_API_KEY\"),\n",
    ")"
   ]
  },
  {
   "cell_type": "markdown",
   "id": "919a2814-737f-4687-916f-432654549676",
   "metadata": {},
   "source": [
    "### 2. Install dependencies\n",
    "Install the Azure Open AI SDK using pip (Requires: Python >=3.8):"
   ]
  },
  {
   "cell_type": "code",
   "execution_count": 4,
   "id": "4776fda7-c61c-4d5e-bdc7-1d232b6b1076",
   "metadata": {},
   "outputs": [
    {
     "name": "stdout",
     "output_type": "stream",
     "text": [
      "Requirement already satisfied: openai in c:\\users\\source\\anaconda3\\envs\\lynepots_env\\lib\\site-packages (1.86.0)Note: you may need to restart the kernel to use updated packages.\n",
      "\n",
      "Requirement already satisfied: anyio<5,>=3.5.0 in c:\\users\\source\\anaconda3\\envs\\lynepots_env\\lib\\site-packages (from openai) (4.7.0)\n",
      "Requirement already satisfied: distro<2,>=1.7.0 in c:\\users\\source\\anaconda3\\envs\\lynepots_env\\lib\\site-packages (from openai) (1.9.0)\n",
      "Requirement already satisfied: httpx<1,>=0.23.0 in c:\\users\\source\\anaconda3\\envs\\lynepots_env\\lib\\site-packages (from openai) (0.28.1)\n",
      "Requirement already satisfied: jiter<1,>=0.4.0 in c:\\users\\source\\anaconda3\\envs\\lynepots_env\\lib\\site-packages (from openai) (0.10.0)\n",
      "Requirement already satisfied: pydantic<3,>=1.9.0 in c:\\users\\source\\anaconda3\\envs\\lynepots_env\\lib\\site-packages (from openai) (2.11.7)\n",
      "Requirement already satisfied: sniffio in c:\\users\\source\\anaconda3\\envs\\lynepots_env\\lib\\site-packages (from openai) (1.3.0)\n",
      "Requirement already satisfied: tqdm>4 in c:\\users\\source\\anaconda3\\envs\\lynepots_env\\lib\\site-packages (from openai) (4.67.1)\n",
      "Requirement already satisfied: typing-extensions<5,>=4.11 in c:\\users\\source\\anaconda3\\envs\\lynepots_env\\lib\\site-packages (from openai) (4.12.2)\n",
      "Requirement already satisfied: exceptiongroup>=1.0.2 in c:\\users\\source\\anaconda3\\envs\\lynepots_env\\lib\\site-packages (from anyio<5,>=3.5.0->openai) (1.2.0)\n",
      "Requirement already satisfied: idna>=2.8 in c:\\users\\source\\anaconda3\\envs\\lynepots_env\\lib\\site-packages (from anyio<5,>=3.5.0->openai) (3.7)\n",
      "Requirement already satisfied: certifi in c:\\users\\source\\anaconda3\\envs\\lynepots_env\\lib\\site-packages (from httpx<1,>=0.23.0->openai) (2025.4.26)\n",
      "Requirement already satisfied: httpcore==1.* in c:\\users\\source\\anaconda3\\envs\\lynepots_env\\lib\\site-packages (from httpx<1,>=0.23.0->openai) (1.0.9)\n",
      "Requirement already satisfied: h11>=0.16 in c:\\users\\source\\anaconda3\\envs\\lynepots_env\\lib\\site-packages (from httpcore==1.*->httpx<1,>=0.23.0->openai) (0.16.0)\n",
      "Requirement already satisfied: annotated-types>=0.6.0 in c:\\users\\source\\anaconda3\\envs\\lynepots_env\\lib\\site-packages (from pydantic<3,>=1.9.0->openai) (0.7.0)\n",
      "Requirement already satisfied: pydantic-core==2.33.2 in c:\\users\\source\\anaconda3\\envs\\lynepots_env\\lib\\site-packages (from pydantic<3,>=1.9.0->openai) (2.33.2)\n",
      "Requirement already satisfied: typing-inspection>=0.4.0 in c:\\users\\source\\anaconda3\\envs\\lynepots_env\\lib\\site-packages (from pydantic<3,>=1.9.0->openai) (0.4.1)\n",
      "Requirement already satisfied: colorama in c:\\users\\source\\anaconda3\\envs\\lynepots_env\\lib\\site-packages (from tqdm>4->openai) (0.4.6)\n"
     ]
    }
   ],
   "source": [
    "pip install openai"
   ]
  },
  {
   "cell_type": "markdown",
   "id": "68472acc-fa3d-4661-a4a1-f4a335b17154",
   "metadata": {},
   "source": [
    "### 3. Run a basic code sample\n",
    "This sample demonstrates a basic call to the chat completion API. The call is synchronous."
   ]
  },
  {
   "cell_type": "code",
   "execution_count": 16,
   "id": "deaeb8b8-86d6-4c15-9974-17f6c5c5ab52",
   "metadata": {},
   "outputs": [
    {
     "name": "stdout",
     "output_type": "stream",
     "text": [
      "That's great! Paris is a beautiful city with so much to offer. Some popular attractions you should consider visiting include:\n",
      "\n",
      "1. Eiffel Tower: Iconic symbol of Paris, offering panoramic views of the city.\n",
      "2. Louvre Museum: Home to thousands of works of art, including the famous Mona Lisa.\n",
      "3. Notre-Dame Cathedral: A stunning example of French Gothic architecture.\n",
      "4. Montmartre: Charming neighborhood known for its artist community and the Sacré-Cœur Basilica.\n",
      "5. Champs-Élysées: Famous avenue lined with shops, cafes, and landmarks like the Arc de Triomphe.\n",
      "6. Seine River: Enjoy a scenic boat cruise along the Seine to see Paris from a different perspective.\n",
      "7. Luxembourg Gardens: Beautiful green space to relax and enjoy nature in the heart of the city.\n",
      "\n",
      "These are just a few suggestions, but there is so much more to see and do in Paris. Enjoy your trip!\n"
     ]
    }
   ],
   "source": [
    "import os\n",
    "from openai import AzureOpenAI\n",
    "\n",
    "endpoint = azure_endpoint\n",
    "model_name = \"gpt-35-turbo\"\n",
    "deployment = \"gpt-35-turbo-OpenAI\"\n",
    "\n",
    "subscription_key = api_key\n",
    "api_version = \"2024-12-01-preview\"\n",
    "\n",
    "client = AzureOpenAI(\n",
    "    api_version=api_version,\n",
    "    azure_endpoint=endpoint,\n",
    "    api_key=subscription_key,\n",
    ")\n",
    "\n",
    "response = client.chat.completions.create(\n",
    "    messages=[\n",
    "        {\n",
    "            \"role\": \"system\",\n",
    "            \"content\": \"You are a helpful assistant.\",\n",
    "        },\n",
    "        {\n",
    "            \"role\": \"user\",\n",
    "            \"content\": \"I am going to Paris, what should I see?\",\n",
    "        }\n",
    "    ],\n",
    "    max_tokens=4096,\n",
    "    temperature=1.0,\n",
    "    top_p=1.0,\n",
    "    model=deployment\n",
    ")\n",
    "\n",
    "print(response.choices[0].message.content)"
   ]
  },
  {
   "cell_type": "markdown",
   "id": "9dca5784-199a-46e0-964d-2f35cac5451e",
   "metadata": {},
   "source": [
    "### 4. Explore more samples\n",
    "Run a multi-turn conversation\n",
    "This sample demonstrates a multi-turn conversation with the chat completion API. When using the model for a chat application, you'll need to manage the history of that conversation and send the latest messages to the model."
   ]
  },
  {
   "cell_type": "code",
   "execution_count": 17,
   "id": "0c1ae5c7-94c7-4b66-9a4e-e78a3eacbc03",
   "metadata": {},
   "outputs": [
    {
     "name": "stdout",
     "output_type": "stream",
     "text": [
      "The Eiffel Tower is one of the most iconic and recognized landmarks in the world for several reasons:\n",
      "\n",
      "1. Iconic Symbol: The Eiffel Tower is a symbol of Paris and France, representing the city's elegance, culture, and history. It is often featured in movies, art, and photography as a symbol of romance and beauty.\n",
      "\n",
      "2. Architectural Wonder: When it was built in 1889 for the World's Fair, the Eiffel Tower was an engineering marvel and stood as the tallest man-made structure in the world until 1930. Its intricate iron lattice design is admired by visitors from around the globe.\n",
      "\n",
      "3. Panoramic Views: Visitors can take an elevator ride to the top of the Eiffel Tower to enjoy panoramic views of Paris, including famous landmarks such as the Louvre, Notre-Dame Cathedral, and the Seine River. The views are especially breathtaking during sunrise or sunset.\n",
      "\n",
      "4. Romantic Atmosphere: Many couples visit the Eiffel Tower to enjoy a romantic moment, making it a popular spot for proposals and special occasions. The tower lights up at night, creating a magical and enchanting atmosphere.\n",
      "\n",
      "Overall, the Eiffel Tower's significance, architecture, views, and romantic charm make it a must-see attraction for anyone visiting Paris.\n"
     ]
    }
   ],
   "source": [
    "import os\n",
    "from openai import AzureOpenAI\n",
    "\n",
    "endpoint = azure_endpoint\n",
    "model_name = \"gpt-35-turbo\"\n",
    "deployment = \"gpt-35-turbo-OpenAI\"\n",
    "\n",
    "subscription_key = api_key\n",
    "api_version = \"2024-12-01-preview\"\n",
    "\n",
    "client = AzureOpenAI(\n",
    "    api_version=api_version,\n",
    "    azure_endpoint=endpoint,\n",
    "    api_key=subscription_key,\n",
    ")\n",
    "\n",
    "response = client.chat.completions.create(\n",
    "    messages=[\n",
    "        {\n",
    "            \"role\": \"system\",\n",
    "            \"content\": \"You are a helpful assistant.\",\n",
    "        },\n",
    "        {\n",
    "            \"role\": \"user\",\n",
    "            \"content\": \"I am going to Paris, what should I see?\",\n",
    "        },\n",
    "        {\n",
    "            \"role\": \"assistant\",\n",
    "            \"content\": \"Paris, the capital of France, is known for its stunning architecture, art museums, historical landmarks, and romantic atmosphere. Here are some of the top attractions to see in Paris:\\n \\n 1. The Eiffel Tower: The iconic Eiffel Tower is one of the most recognizable landmarks in the world and offers breathtaking views of the city.\\n 2. The Louvre Museum: The Louvre is one of the world's largest and most famous museums, housing an impressive collection of art and artifacts, including the Mona Lisa.\\n 3. Notre-Dame Cathedral: This beautiful cathedral is one of the most famous landmarks in Paris and is known for its Gothic architecture and stunning stained glass windows.\\n \\n These are just a few of the many attractions that Paris has to offer. With so much to see and do, it's no wonder that Paris is one of the most popular tourist destinations in the world.\",\n",
    "        },\n",
    "        {\n",
    "            \"role\": \"user\",\n",
    "            \"content\": \"What is so great about #1?\",\n",
    "        }\n",
    "    ],\n",
    "    max_tokens=4096,\n",
    "    temperature=1.0,\n",
    "    top_p=1.0,\n",
    "    model=deployment\n",
    ")\n",
    "\n",
    "print(response.choices[0].message.content)"
   ]
  },
  {
   "cell_type": "markdown",
   "id": "e1270c47-faa7-4d6e-bd72-7b8814c388c1",
   "metadata": {},
   "source": [
    "### 5. Stream the output\n",
    "For a better user experience, you will want to stream the response of the model so that the first token shows up early and you avoid waiting for long responses."
   ]
  },
  {
   "cell_type": "code",
   "execution_count": 18,
   "id": "43793965-9f42-4f3c-b3c4-012a6460f2f5",
   "metadata": {},
   "outputs": [
    {
     "name": "stdout",
     "output_type": "stream",
     "text": [
      "That's exciting! Here are some must-visit attractions in Paris:\n",
      "\n",
      "1. Eiffel Tower: An iconic symbol of Paris, offering breathtaking views of the city from its observation decks.\n",
      " world's largest and most famous museums, home to thousands of art pieces including the famous Mona Lisa.\n",
      " architecture located on the Île de la Cité.of French Gothic\n",
      " Sacré-Cœur.e: A charming neighborhood known for its artistic history, crowned by the white-domed Basilica of the\n",
      " the Seine River.uise: Explore the city's landmarks from a different perspective by taking a leisurely cruise along\n",
      " to the Arc de Triomphe.ous avenue lined with shops, cafes, and theaters, leading up\n",
      " are a must-see.sailles: Just a short train ride from Paris, the opulent palace and its beautiful gardens\n",
      "8. Musée d'Orsay: Housed in a former railway station, this museum showcases a collection of Impressionist and Post-Impressionist masterpieces.\n",
      "\n",
      " the beauty and culture of the city!re to take in"
     ]
    }
   ],
   "source": [
    "import os\n",
    "from openai import AzureOpenAI\n",
    "\n",
    "endpoint = azure_endpoint\n",
    "model_name = \"gpt-35-turbo\"\n",
    "deployment = \"gpt-35-turbo-OpenAI\"\n",
    "\n",
    "subscription_key = api_key\n",
    "api_version = \"2024-12-01-preview\"\n",
    "\n",
    "client = AzureOpenAI(\n",
    "    api_version=api_version,\n",
    "    azure_endpoint=endpoint,\n",
    "    api_key=subscription_key,\n",
    ")\n",
    "\n",
    "response = client.chat.completions.create(\n",
    "    stream=True,\n",
    "    messages=[\n",
    "        {\n",
    "            \"role\": \"system\",\n",
    "            \"content\": \"You are a helpful assistant.\",\n",
    "        },\n",
    "        {\n",
    "            \"role\": \"user\",\n",
    "            \"content\": \"I am going to Paris, what should I see?\",\n",
    "        }\n",
    "    ],\n",
    "    max_tokens=4096,\n",
    "    temperature=1.0,\n",
    "    top_p=1.0,\n",
    "    model=deployment,\n",
    ")\n",
    "\n",
    "for update in response:\n",
    "    if update.choices:\n",
    "        print(update.choices[0].delta.content or \"\", end=\"\")\n",
    "\n",
    "client.close()"
   ]
  }
 ],
 "metadata": {
  "kernelspec": {
   "display_name": "Python 3 (ipykernel)",
   "language": "python",
   "name": "python3"
  },
  "language_info": {
   "codemirror_mode": {
    "name": "ipython",
    "version": 3
   },
   "file_extension": ".py",
   "mimetype": "text/x-python",
   "name": "python",
   "nbconvert_exporter": "python",
   "pygments_lexer": "ipython3",
   "version": "3.9.23"
  },
  "widgets": {
   "application/vnd.jupyter.widget-state+json": {
    "state": {},
    "version_major": 2,
    "version_minor": 0
   }
  }
 },
 "nbformat": 4,
 "nbformat_minor": 5
}
