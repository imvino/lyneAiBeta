{
 "cells": [
  {
   "cell_type": "code",
   "execution_count": 1,
   "id": "1b05d27b-b03d-4083-9e6a-c2f9089577f6",
   "metadata": {},
   "outputs": [
    {
     "name": "stdout",
     "output_type": "stream",
     "text": [
      "Overwriting regulation_embedder_app.py\n"
     ]
    }
   ],
   "source": [
    "%%writefile regulation_embedder_app.py\n",
    "import os\n",
    "import sys\n",
    "import streamlit as st\n",
    "from dotenv import load_dotenv\n",
    "from typing import Optional\n",
    "from langchain_community.vectorstores import SupabaseVectorStore\n",
    "from supabase import create_client\n",
    "from langchain_community.document_loaders import PyPDFLoader\n",
    "from langchain_text_splitters import RecursiveCharacterTextSplitter\n",
    "from langchain_openai import AzureOpenAIEmbeddings\n",
    "\n",
    "# Load environment variables\n",
    "load_dotenv()\n",
    "\n",
    "# Supabase client\n",
    "supabase_url = os.getenv(\"SUPABASE_URL\")\n",
    "supabase_key = os.getenv(\"SUPABASE_KEY\")\n",
    "supabase = create_client(supabase_url, supabase_key)\n",
    "\n",
    "# Embeddings\n",
    "embeddings = AzureOpenAIEmbeddings(\n",
    "    model=os.getenv(\"AZURE_EMBEDDING_MODEL_NAME\"),\n",
    "    azure_endpoint=os.getenv(\"AZURE_EMBEDDING_ENDPOINT\"),\n",
    "    openai_api_key=os.getenv(\"AZURE_EMBEDDING_API_KEY\"),\n",
    "    openai_api_version=\"2024-02-01\",\n",
    ")\n",
    "\n",
    "def build_vectorstore(file_paths: list[str], regulator_code: str) -> Optional[SupabaseVectorStore]:\n",
    "    \"\"\"Load PDFs, chunk them, and build a Supabase vectorstore in regulation_embd.\"\"\"\n",
    "    if not file_paths:\n",
    "        st.error(\"❌ No PDF files uploaded.\")\n",
    "        return None\n",
    "\n",
    "    documents = []\n",
    "    for file_path in file_paths:\n",
    "        loader = PyPDFLoader(file_path)\n",
    "        documents.extend(loader.load())\n",
    "\n",
    "    if not documents:\n",
    "        st.warning(\"⚠️ No valid PDF documents found.\")\n",
    "        return None\n",
    "\n",
    "    # Split into chunks\n",
    "    text_splitter = RecursiveCharacterTextSplitter(chunk_size=1000, chunk_overlap=100)\n",
    "    docs = text_splitter.split_documents(documents)\n",
    "\n",
    "    # Add regulator_code metadata\n",
    "    for doc in docs:\n",
    "        doc.metadata[\"regulator_code\"] = regulator_code\n",
    "\n",
    "    st.success(f\"✅ Prepared {len(docs)} chunks for {regulator_code} regulations\")\n",
    "\n",
    "    # Push into Supabase\n",
    "    vs = SupabaseVectorStore.from_documents(\n",
    "        docs,\n",
    "        embeddings,\n",
    "        client=supabase,\n",
    "        table_name=\"regulation_embd\",\n",
    "        query_name=\"match_documents\",\n",
    "    )\n",
    "    return vs\n",
    "\n",
    "# ------------------ Streamlit UI ------------------\n",
    "st.title(\"📘 Regulation Embedding Uploader\")\n",
    "\n",
    "# User inputs\n",
    "regulation_name = st.text_input(\"Enter Regulation Name (e.g. FAA):\", value=\"FAA\")\n",
    "\n",
    "uploaded_files = st.file_uploader(\n",
    "    \"📂 Upload your PDF files\",\n",
    "    type=[\"pdf\"],\n",
    "    accept_multiple_files=True\n",
    ")\n",
    "\n",
    "file_paths = []\n",
    "if uploaded_files:\n",
    "    save_dir = \"./uploaded_pdfs\"\n",
    "    os.makedirs(save_dir, exist_ok=True)\n",
    "\n",
    "    for uploaded_file in uploaded_files:\n",
    "        file_path = os.path.join(save_dir, uploaded_file.name)\n",
    "        with open(file_path, \"wb\") as f:\n",
    "            f.write(uploaded_file.getbuffer())\n",
    "        file_paths.append(file_path)\n",
    "\n",
    "    st.success(f\"✅ {len(file_paths)} PDFs saved to {save_dir}\")\n",
    "\n",
    "if st.button(\"🚀 Start Embedding\"):\n",
    "    with st.spinner(\"Processing PDFs and uploading embeddings...\"):\n",
    "        vs = build_vectorstore(file_paths, regulation_name.lower())\n",
    "        if vs:\n",
    "            st.success(f\"🎉 {regulation_name} embeddings uploaded to Supabase table: regulation_embd\")\n",
    "        else:\n",
    "            st.error(\"❌ Could not build vectorstore. Please check your PDFs.\")\n"
   ]
  },
  {
   "cell_type": "code",
   "execution_count": 2,
   "id": "3d306b4f-fba1-4e3d-975c-78f79758f046",
   "metadata": {},
   "outputs": [
    {
     "name": "stderr",
     "output_type": "stream",
     "text": [
      "2025-08-29 11:38:24.476 Port 8501 is already in use\n"
     ]
    }
   ],
   "source": [
    "!streamlit run regulation_embedder_app.py --server.port 8501 --server.headless true"
   ]
  },
  {
   "cell_type": "markdown",
   "id": "e290c6ce-b597-489f-b251-d9c57945e005",
   "metadata": {},
   "source": [
    " [Launch App 🚀](http://localhost:8501)"
   ]
  }
 ],
 "metadata": {
  "kernelspec": {
   "display_name": "Python 3 (ipykernel)",
   "language": "python",
   "name": "python3"
  },
  "language_info": {
   "codemirror_mode": {
    "name": "ipython",
    "version": 3
   },
   "file_extension": ".py",
   "mimetype": "text/x-python",
   "name": "python",
   "nbconvert_exporter": "python",
   "pygments_lexer": "ipython3",
   "version": "3.9.23"
  },
  "widgets": {
   "application/vnd.jupyter.widget-state+json": {
    "state": {},
    "version_major": 2,
    "version_minor": 0
   }
  }
 },
 "nbformat": 4,
 "nbformat_minor": 5
}
