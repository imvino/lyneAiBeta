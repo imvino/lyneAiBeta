{
 "cells": [
  {
   "cell_type": "code",
   "execution_count": 6,
   "id": "25aeea01-1954-4ae9-bf67-1e2e352d248c",
   "metadata": {},
   "outputs": [],
   "source": [
    "# !pip install streamlit"
   ]
  },
  {
   "cell_type": "code",
   "execution_count": 7,
   "id": "2d90768a-335f-4238-98bb-4ec5fc6fc9de",
   "metadata": {},
   "outputs": [
    {
     "name": "stdout",
     "output_type": "stream",
     "text": [
      "Overwriting my_streamlit_app.py\n"
     ]
    }
   ],
   "source": [
    "%%writefile my_streamlit_app.py\n",
    "\n",
    "import streamlit as st\n",
    "\n",
    "st.title(\"My First Streamlit App 🚀\")\n",
    "\n",
    "name = st.text_input(\"Enter your name:\")\n",
    "age = st.slider(\"Select your age:\", 0, 100, 25)\n",
    "\n",
    "if st.button(\"Say Hello\"):\n",
    "    st.write(f\"Hello {name}, you are {age} years old! 🎉\")"
   ]
  },
  {
   "cell_type": "code",
   "execution_count": 8,
   "id": "6b0385a5-8fa8-42c3-85be-443dbeb055ef",
   "metadata": {},
   "outputs": [
    {
     "name": "stderr",
     "output_type": "stream",
     "text": [
      "2025-08-29 11:00:49.181 Port 8502 is already in use\n"
     ]
    }
   ],
   "source": [
    "!streamlit run my_streamlit_app.py --server.port 8502 --server.headless true"
   ]
  },
  {
   "cell_type": "markdown",
   "id": "79861a5c-4c35-432c-b19d-83f067fc756c",
   "metadata": {},
   "source": [
    "Launch App : [Open Streamlit App 🚀](http://localhost:8502)"
   ]
  }
 ],
 "metadata": {
  "kernelspec": {
   "display_name": "Python 3 (ipykernel)",
   "language": "python",
   "name": "python3"
  },
  "language_info": {
   "codemirror_mode": {
    "name": "ipython",
    "version": 3
   },
   "file_extension": ".py",
   "mimetype": "text/x-python",
   "name": "python",
   "nbconvert_exporter": "python",
   "pygments_lexer": "ipython3",
   "version": "3.9.23"
  },
  "widgets": {
   "application/vnd.jupyter.widget-state+json": {
    "state": {},
    "version_major": 2,
    "version_minor": 0
   }
  }
 },
 "nbformat": 4,
 "nbformat_minor": 5
}
